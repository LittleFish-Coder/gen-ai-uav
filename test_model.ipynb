{
 "cells": [
  {
   "cell_type": "markdown",
   "metadata": {},
   "source": [
    "# Load The Test Data"
   ]
  },
  {
   "cell_type": "code",
   "execution_count": null,
   "metadata": {},
   "outputs": [],
   "source": [
    "import zipfile\n",
    "import os\n",
    "import shutil\n",
    "\n",
    "dataset_zip = 'dataset/public_testing_dataset_1.zip'\n",
    "dataset_dir = 'dataset/public_testing_dataset_1'\n",
    "\n",
    "with zipfile.ZipFile(dataset_zip, 'r') as zip_ref:\n",
    "    zip_ref.extractall(dataset_dir)"
   ]
  },
  {
   "cell_type": "code",
   "execution_count": null,
   "metadata": {},
   "outputs": [],
   "source": [
    "!pwd"
   ]
  },
  {
   "cell_type": "markdown",
   "metadata": {},
   "source": [
    "# Preprocess The Image to match the model input\n",
    "\n",
    "The label_img folder contains images `.png`, and all the images does not contains the ground truth, so we need to add the fake paired images, and concatenate to the original images to create the paired images."
   ]
  },
  {
   "cell_type": "code",
   "execution_count": null,
   "metadata": {},
   "outputs": [],
   "source": [
    "import os\n",
    "\n",
    "# source path\n",
    "dataset_label_img_dir = 'dataset/public_testing_dataset_1/label_img'\n",
    "# destination path\n",
    "dataset_test_dir = 'dataset/public_testing_dataset_1/test'\n",
    "\n",
    "# create destination directory if not exist\n",
    "if not os.path.exists(dataset_test_dir):\n",
    "\tos.makedirs(dataset_test_dir)"
   ]
  },
  {
   "cell_type": "markdown",
   "metadata": {},
   "source": [
    "We also have to convert the images from:\n",
    "- black to white\n",
    "- white to black"
   ]
  },
  {
   "cell_type": "code",
   "execution_count": null,
   "metadata": {},
   "outputs": [],
   "source": [
    "# process each image in the source directory\n",
    "# and copy to destination directory\n",
    "import cv2\n",
    "import numpy as np\n",
    "\n",
    "for filename in os.listdir(dataset_label_img_dir):\n",
    "\n",
    "\t# read the image\n",
    "\timg = cv2.imread(os.path.join(dataset_label_img_dir, filename))\n",
    "\n",
    "\t# invert the color\n",
    "\timg = cv2.bitwise_not(img)\n",
    "\n",
    "\t# concatenate the image with itself horizontally\n",
    "\timg_double = np.concatenate((img, img), axis=1)\n",
    "\n",
    "\t# write the new image to the destination directory\n",
    "\tcv2.imwrite(os.path.join(dataset_test_dir, filename), img_double)\n",
    "\n",
    "print('Done!')"
   ]
  },
  {
   "cell_type": "markdown",
   "metadata": {},
   "source": [
    "# Copy the test folder to the model test input folder"
   ]
  },
  {
   "cell_type": "code",
   "execution_count": null,
   "metadata": {},
   "outputs": [],
   "source": [
    "import os\n",
    "import shutil\n",
    "\n",
    "source_dir = './dataset/public_testing_dataset_1/test'\n",
    "target_dir = './AI cup demo code/pytorch-CycleGAN-and-pix2pix/datasets/competition_test/test'\n",
    "\n",
    "# If the target directory exists, remove it\n",
    "if os.path.exists(target_dir):\n",
    "    shutil.rmtree(target_dir)\n",
    "\n",
    "# Copy the source directory to the target directory\n",
    "shutil.copytree(source_dir, target_dir)"
   ]
  },
  {
   "cell_type": "markdown",
   "metadata": {},
   "source": [
    "# Test The Model"
   ]
  },
  {
   "cell_type": "code",
   "execution_count": null,
   "metadata": {},
   "outputs": [],
   "source": [
    "# change directory to the pix2pix code\n",
    "import os\n",
    "os.chdir('AI cup demo code/pytorch-CycleGAN-and-pix2pix')"
   ]
  },
  {
   "cell_type": "code",
   "execution_count": null,
   "metadata": {},
   "outputs": [],
   "source": [
    "! python test.py --dataroot ./datasets/competition_test --name ROAD_pix2pix --model pix2pix --direction AtoB --num_test 1000"
   ]
  },
  {
   "cell_type": "code",
   "execution_count": null,
   "metadata": {},
   "outputs": [],
   "source": [
    "print(f\"Size: {len(os.listdir('./results/ROAD_pix2pix/test_latest/images/'))}\")"
   ]
  },
  {
   "cell_type": "markdown",
   "metadata": {},
   "source": [
    "# Transform the results into AI CUP format\n",
    "\n",
    "The results are stored in `./ROAD_pix2pix/test_latest/images/`.\n",
    "\n",
    "And there are 2 types of results: `real_A` and `fake_B`.\n",
    "\n",
    "The `real_A` is the original image, and the `fake_B` is the transformed image.\n",
    "\n",
    "Store the `{Prefix}_fake_B.png` as `{Prefix}.jpg` to `./ROAD_pix2pix/test_latest/submission/`."
   ]
  },
  {
   "cell_type": "code",
   "execution_count": null,
   "metadata": {},
   "outputs": [],
   "source": [
    "# store the fake images to the `./results/ROAD_pix2pix/test_latest/submission/` folder\n",
    "import os\n",
    "import cv2\n",
    "import shutil\n",
    "\n",
    "source_folder = './results/ROAD_pix2pix/test_latest/images'\n",
    "target_folder = './results/ROAD_pix2pix/test_latest/submission'\n",
    "\n",
    "if not os.path.exists(target_folder):\n",
    "    os.makedirs(target_folder)\n",
    "\n",
    "for image_name in os.listdir(source_folder):\n",
    "    if 'fake' in image_name:\n",
    "        new_name = image_name.replace('_fake_B.png', '.jpg')\n",
    "        shutil.copy(os.path.join(source_folder, image_name), os.path.join(target_folder, new_name))"
   ]
  },
  {
   "cell_type": "code",
   "execution_count": null,
   "metadata": {},
   "outputs": [],
   "source": [
    "# resize the image as 420x240\n",
    "import os\n",
    "import cv2\n",
    "\n",
    "for image_name in os.listdir(target_folder):\n",
    "    img = cv2.imread(os.path.join(target_folder, image_name))\n",
    "    img = cv2.resize(img, (420, 240))\n",
    "    cv2.imwrite(os.path.join(target_folder, image_name), img)"
   ]
  },
  {
   "cell_type": "code",
   "execution_count": null,
   "metadata": {},
   "outputs": [],
   "source": [
    "print(f\"Size: {len(os.listdir(target_folder))}\")\n",
    "# zip the fake images\n",
    "shutil.make_archive(target_folder, 'zip', target_folder)"
   ]
  }
 ],
 "metadata": {
  "kernelspec": {
   "display_name": "genai",
   "language": "python",
   "name": "python3"
  },
  "language_info": {
   "codemirror_mode": {
    "name": "ipython",
    "version": 3
   },
   "file_extension": ".py",
   "mimetype": "text/x-python",
   "name": "python",
   "nbconvert_exporter": "python",
   "pygments_lexer": "ipython3",
   "version": "3.10.14"
  }
 },
 "nbformat": 4,
 "nbformat_minor": 2
}
