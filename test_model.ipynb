{
 "cells": [
  {
   "cell_type": "markdown",
   "metadata": {},
   "source": [
    "# Install"
   ]
  },
  {
   "cell_type": "code",
   "execution_count": null,
   "metadata": {},
   "outputs": [],
   "source": [
    "import os\n",
    "import shutil"
   ]
  },
  {
   "cell_type": "code",
   "execution_count": null,
   "metadata": {},
   "outputs": [],
   "source": [
    "# check if `pytorch-CycleGAN-and-pix2pix` is already cloned\n",
    "if not os.path.exists('pytorch-CycleGAN-and-pix2pix'):\n",
    "\t!git clone https://github.com/junyanz/pytorch-CycleGAN-and-pix2pix"
   ]
  },
  {
   "cell_type": "code",
   "execution_count": null,
   "metadata": {},
   "outputs": [],
   "source": [
    "os.chdir('./pytorch-CycleGAN-and-pix2pix')"
   ]
  },
  {
   "cell_type": "code",
   "execution_count": null,
   "metadata": {},
   "outputs": [],
   "source": [
    "!pwd"
   ]
  },
  {
   "cell_type": "markdown",
   "metadata": {},
   "source": [
    "# Datasets\n",
    "\n",
    "Put the dataset in the `pytorch-CycleGAN-and-pix2pix/datasets` folder\n",
    "\n",
    "(We have finished this part at the previous step when running `preprocess_dataset.ipynb`)\n",
    "\n",
    "Each dataset should have the following directory structure:\n",
    "\n",
    "```\n",
    "datasets\n",
    "└── testing_dataset\n",
    "\t├── testA\n",
    "```"
   ]
  },
  {
   "cell_type": "markdown",
   "metadata": {},
   "source": [
    "# Testing (Baseline)\n",
    "convert the testA images to domainB images\n",
    "\n",
    "use the trained model to inference the testA images"
   ]
  },
  {
   "cell_type": "markdown",
   "metadata": {},
   "source": [
    "## Load testing data folder\n",
    "\n",
    "select the folder where the testing data is located."
   ]
  },
  {
   "cell_type": "code",
   "execution_count": null,
   "metadata": {},
   "outputs": [],
   "source": [
    "test_dir = './datasets/public_testing_dataset_1'\n",
    "# the directory may only contain `testA` subfolder"
   ]
  },
  {
   "cell_type": "markdown",
   "metadata": {},
   "source": [
    "## Check the weights\n",
    "After training, you should have a folder with the weights of the model. \n",
    "\n",
    "It should be located in the `pytorch-CycleGAN-and-pix2pix/checkpoints` folder.\n",
    "\n",
    "For example, in our previous training, we have the following weights:\n",
    "`checkpoints/ROAD_RIVER_pix2pix/latest_net_G.pth`"
   ]
  },
  {
   "cell_type": "code",
   "execution_count": null,
   "metadata": {},
   "outputs": [],
   "source": [
    "!ls checkpoints/"
   ]
  },
  {
   "cell_type": "code",
   "execution_count": null,
   "metadata": {},
   "outputs": [],
   "source": [
    "print(not os.path.exists('./checkpoints/ROAD_RIVER_pix2pix'))"
   ]
  },
  {
   "cell_type": "code",
   "execution_count": null,
   "metadata": {},
   "outputs": [],
   "source": [
    "!pwd"
   ]
  },
  {
   "cell_type": "code",
   "execution_count": null,
   "metadata": {},
   "outputs": [],
   "source": [
    "# if there is no pre-trained model, use our pre-trained model\n",
    "if not os.path.exists('./checkpoints/ROAD_RIVER_pix2pix'):\n",
    "    !bash ../scripts/download_pretrained_weight.sh\n"
   ]
  },
  {
   "cell_type": "markdown",
   "metadata": {},
   "source": [
    "## Inference with the pre-trained model with single mode\n",
    "\n",
    "- `--dataroot`: the folder where the testing data is located\n",
    "- `--name`: the name of the model\n",
    "- `--model`: the model mode\n",
    "- `--netG`: the weights of the generator\n",
    "- `--direction`: the direction of the model\n",
    "- `--dataset_mode`: single (which we don't need to prepare the paired data)\n",
    "- `--num_test`: the number of testing data (default is 50)"
   ]
  },
  {
   "cell_type": "code",
   "execution_count": null,
   "metadata": {},
   "outputs": [],
   "source": [
    "! python test.py --dataroot ./datasets/public_testing_dataset_1/testA/ --name ROAD_RIVER_pix2pix --model test --netG unet_256 --direction AtoB --dataset_mode single --norm batch --num_test 1000"
   ]
  },
  {
   "cell_type": "markdown",
   "metadata": {},
   "source": [
    "## Transform the results into AI CUP format\n",
    "\n",
    "The results are stored in `./ROAD_RIVER_pix2pix/test_latest/images/`.\n",
    "\n",
    "And there are 2 types of results:\n",
    "- `{Prefix}_real` (domainA)\n",
    "- `{Prefix}_fake` (domainB)\n",
    "\n",
    "Store the `{Prefix}_fake.png` as `{Prefix}.jpg` to `./ROAD_pix2pix/test_latest/submission/`."
   ]
  },
  {
   "cell_type": "code",
   "execution_count": null,
   "metadata": {},
   "outputs": [],
   "source": [
    "# store the fake images to the `./results/ROAD_RIVER_pix2pix/test_latest/submission/` folder\n",
    "import os\n",
    "import cv2\n",
    "import shutil\n",
    "\n",
    "source_folder = './results/ROAD_RIVER_pix2pix/test_latest/images'\n",
    "target_folder = './results/ROAD_RIVER_pix2pix/test_latest/submission'\n",
    "\n",
    "if not os.path.exists(target_folder):\n",
    "    os.makedirs(target_folder)\n",
    "\n",
    "for image_name in os.listdir(source_folder):\n",
    "    if 'fake' in image_name:\n",
    "        new_name = image_name.replace('_fake.png', '.jpg')\n",
    "        shutil.copy(os.path.join(source_folder, image_name), os.path.join(target_folder, new_name))"
   ]
  },
  {
   "cell_type": "code",
   "execution_count": null,
   "metadata": {},
   "outputs": [],
   "source": [
    "# resize the image as 420x240\n",
    "import os\n",
    "import cv2\n",
    "\n",
    "for image_name in os.listdir(target_folder):\n",
    "    img = cv2.imread(os.path.join(target_folder, image_name))\n",
    "    img = cv2.resize(img, (420, 240))\n",
    "    cv2.imwrite(os.path.join(target_folder, image_name), img)\n",
    "print(\"Finished resizing images\")\n",
    "print(f\"Size: {len(os.listdir(target_folder))}\")"
   ]
  },
  {
   "cell_type": "code",
   "execution_count": null,
   "metadata": {},
   "outputs": [],
   "source": [
    "# zip the fake images\n",
    "shutil.make_archive(target_folder, 'zip', target_folder)"
   ]
  },
  {
   "cell_type": "markdown",
   "metadata": {},
   "source": [
    "# Enhanced Method (2 domain-specific models)"
   ]
  },
  {
   "cell_type": "markdown",
   "metadata": {},
   "source": [
    "## Load The Test Data"
   ]
  },
  {
   "cell_type": "code",
   "execution_count": null,
   "metadata": {},
   "outputs": [],
   "source": [
    "import zipfile\n",
    "\n",
    "dataset_zip = 'dataset/public_testing_dataset_1.zip'\n",
    "dataset_dir = 'dataset/public_testing_dataset_1'\n",
    "\n",
    "with zipfile.ZipFile(dataset_zip, 'r') as zip_ref:\n",
    "    zip_ref.extractall(dataset_dir)"
   ]
  },
  {
   "cell_type": "code",
   "execution_count": null,
   "metadata": {},
   "outputs": [],
   "source": [
    "!pwd"
   ]
  },
  {
   "cell_type": "markdown",
   "metadata": {},
   "source": [
    "## Preprocess The Image to match the model input\n",
    "\n",
    "The label_img folder contains images `.png`, and all the images does not contains the ground truth, so we need to add the fake paired images, and concatenate to the original images to create the paired images."
   ]
  },
  {
   "cell_type": "code",
   "execution_count": null,
   "metadata": {},
   "outputs": [],
   "source": [
    "import os\n",
    "\n",
    "# source path\n",
    "dataset_label_img_dir = 'dataset/public_testing_dataset_1/label_img'\n",
    "# destination path\n",
    "# 2 folder: 1 for RIVER, 1 for ROAD\n",
    "public_test_road_dir = 'dataset/public_test_ROAD/test'\n",
    "public_test_river_dir = 'dataset/public_test_RIVER/test'\n",
    "\n",
    "# create destination directory if not exist\n",
    "if not os.path.exists(public_test_river_dir):\n",
    "\tos.makedirs(public_test_river_dir)\n",
    "if not os.path.exists(public_test_road_dir):\n",
    "\tos.makedirs(public_test_road_dir)"
   ]
  },
  {
   "cell_type": "code",
   "execution_count": null,
   "metadata": {},
   "outputs": [],
   "source": [
    "# process each image in the source directory\n",
    "# and copy to destination directory\n",
    "import cv2\n",
    "import numpy as np\n",
    "\n",
    "for filename in os.listdir(dataset_label_img_dir):\n",
    "\t# read the image\n",
    "\timg = cv2.imread(os.path.join(dataset_label_img_dir, filename))\n",
    "\n",
    "\t# concatenate the image with itself horizontally\n",
    "\timg_double = np.concatenate((img, img), axis=1)\n",
    "\n",
    "\t# determine the destination directory based on the filename\n",
    "\tif 'RI' in filename:\n",
    "\t\tdestination_dir = public_test_river_dir\n",
    "\telif 'RO' in filename:\n",
    "\t\tdestination_dir = public_test_road_dir\n",
    "\n",
    "\t# write the new image to the destination directory\n",
    "\tcv2.imwrite(os.path.join(destination_dir, filename), img_double)\n",
    "\n",
    "print('Done!')"
   ]
  },
  {
   "cell_type": "markdown",
   "metadata": {},
   "source": [
    "## Copy the test folder to the model test input folder"
   ]
  },
  {
   "cell_type": "code",
   "execution_count": null,
   "metadata": {},
   "outputs": [],
   "source": [
    "import os\n",
    "import shutil\n",
    "\n",
    "# Source directory\n",
    "source_river_dir = './dataset/public_test_RIVER/test'\n",
    "source_road_dir = './dataset/public_test_ROAD/test'\n",
    "# Target directory\n",
    "target_dir = './AI cup demo code/pytorch-CycleGAN-and-pix2pix/datasets/'\n",
    "\n",
    "# copy the source folder to the target directory\n",
    "shutil.copytree(source_river_dir, os.path.join(target_dir, 'public_test_RIVER/test'))\n",
    "shutil.copytree(source_road_dir, os.path.join(target_dir, 'public_test_ROAD/test'))"
   ]
  },
  {
   "cell_type": "markdown",
   "metadata": {},
   "source": [
    "## Test The Model"
   ]
  },
  {
   "cell_type": "code",
   "execution_count": null,
   "metadata": {},
   "outputs": [],
   "source": [
    "# change directory to the pix2pix code\n",
    "import os\n",
    "os.chdir('./pytorch-CycleGAN-and-pix2pix')"
   ]
  },
  {
   "cell_type": "code",
   "execution_count": null,
   "metadata": {},
   "outputs": [],
   "source": [
    "# test the 2 models\n",
    "! python test.py --dataroot ./datasets/public_test_ROAD --name ROAD --model pix2pix --direction AtoB --num_test 1000\n",
    "! python test.py --dataroot ./datasets/public_test_RIVER --name RIVER --model pix2pix --direction AtoB --num_test 1000"
   ]
  },
  {
   "cell_type": "code",
   "execution_count": null,
   "metadata": {},
   "outputs": [],
   "source": [
    "print(f\"Size: {len(os.listdir('./results/ROAD/test_latest/images/'))}\")"
   ]
  },
  {
   "cell_type": "markdown",
   "metadata": {},
   "source": [
    "## Transform the results into AI CUP format\n",
    "\n",
    "The results are stored in `./ROAD_pix2pix/test_latest/images/`.\n",
    "\n",
    "And there are 2 types of results: `real_A` and `fake_B`.\n",
    "\n",
    "The `real_A` is the original image, and the `fake_B` is the transformed image.\n",
    "\n",
    "Store the `{Prefix}_fake_B.png` as `{Prefix}.jpg` to `./ROAD_pix2pix/test_latest/submission/`."
   ]
  },
  {
   "cell_type": "code",
   "execution_count": null,
   "metadata": {},
   "outputs": [],
   "source": [
    "# store the fake images to the `./results/ROAD_RIVER_pix2pix/test_latest/submission/` folder\n",
    "import os\n",
    "import cv2\n",
    "import shutil\n",
    "\n",
    "source_folder = './results/ROAD/test_latest/images'\n",
    "target_folder = './results/ROAD/test_latest/submission'\n",
    "\n",
    "if not os.path.exists(target_folder):\n",
    "    os.makedirs(target_folder)\n",
    "\n",
    "for image_name in os.listdir(source_folder):\n",
    "    if 'fake' in image_name:\n",
    "        new_name = image_name.replace('_fake_B.png', '.jpg')\n",
    "        shutil.copy(os.path.join(source_folder, image_name), os.path.join(target_folder, new_name))"
   ]
  },
  {
   "cell_type": "code",
   "execution_count": null,
   "metadata": {},
   "outputs": [],
   "source": [
    "# resize the image as 420x240\n",
    "import os\n",
    "import cv2\n",
    "\n",
    "for image_name in os.listdir(target_folder):\n",
    "    img = cv2.imread(os.path.join(target_folder, image_name))\n",
    "    img = cv2.resize(img, (420, 240))\n",
    "    cv2.imwrite(os.path.join(target_folder, image_name), img)\n",
    "print(f\"Size: {len(os.listdir(target_folder))}\")"
   ]
  },
  {
   "cell_type": "code",
   "execution_count": null,
   "metadata": {},
   "outputs": [],
   "source": [
    "# zip the fake images\n",
    "shutil.make_archive(target_folder, 'zip', target_folder)"
   ]
  },
  {
   "cell_type": "markdown",
   "metadata": {},
   "source": [
    "## Transform the RIVER"
   ]
  },
  {
   "cell_type": "code",
   "execution_count": null,
   "metadata": {},
   "outputs": [],
   "source": [
    "# store the fake images to the `./results/ROAD_RIVER_pix2pix/test_latest/submission/` folder\n",
    "import os\n",
    "import cv2\n",
    "import shutil\n",
    "\n",
    "source_folder = './results/RIVER/test_latest/images'\n",
    "target_folder = './results/RIVER/test_latest/submission'\n",
    "\n",
    "if not os.path.exists(target_folder):\n",
    "    os.makedirs(target_folder)\n",
    "\n",
    "for image_name in os.listdir(source_folder):\n",
    "    if 'fake' in image_name:\n",
    "        new_name = image_name.replace('_fake_B.png', '.jpg')\n",
    "        shutil.copy(os.path.join(source_folder, image_name), os.path.join(target_folder, new_name))"
   ]
  },
  {
   "cell_type": "code",
   "execution_count": null,
   "metadata": {},
   "outputs": [],
   "source": [
    "# resize the image as 420x240\n",
    "import os\n",
    "import cv2\n",
    "\n",
    "for image_name in os.listdir(target_folder):\n",
    "    img = cv2.imread(os.path.join(target_folder, image_name))\n",
    "    img = cv2.resize(img, (420, 240))\n",
    "    cv2.imwrite(os.path.join(target_folder, image_name), img)\n",
    "print(f\"Size: {len(os.listdir(target_folder))}\")"
   ]
  },
  {
   "cell_type": "markdown",
   "metadata": {},
   "source": [
    "## Combine the ROAD and RIVER submission"
   ]
  },
  {
   "cell_type": "code",
   "execution_count": null,
   "metadata": {},
   "outputs": [],
   "source": [
    "source_road_dir = './results/ROAD/test_latest/submission'\n",
    "source_river_dir = './results/RIVER/test_latest/submission'\n",
    "\n",
    "target_dir = './results/submission'\n",
    "\n",
    "if not os.path.exists(target_dir):\n",
    "    os.makedirs(target_dir)\n",
    "\n",
    "for image_name in os.listdir(source_road_dir):\n",
    "\tshutil.copy(os.path.join(source_road_dir, image_name), os.path.join(target_dir, image_name))\n",
    "for image_name in os.listdir(source_river_dir):\n",
    "\tshutil.copy(os.path.join(source_river_dir, image_name), os.path.join(target_dir, image_name))"
   ]
  },
  {
   "cell_type": "code",
   "execution_count": null,
   "metadata": {},
   "outputs": [],
   "source": [
    "# zip the fake images\n",
    "shutil.make_archive(target_dir, 'zip', target_dir)"
   ]
  }
 ],
 "metadata": {
  "kernelspec": {
   "display_name": "genai",
   "language": "python",
   "name": "python3"
  },
  "language_info": {
   "codemirror_mode": {
    "name": "ipython",
    "version": 3
   },
   "file_extension": ".py",
   "mimetype": "text/x-python",
   "name": "python",
   "nbconvert_exporter": "python",
   "pygments_lexer": "ipython3",
   "version": "3.10.14"
  }
 },
 "nbformat": 4,
 "nbformat_minor": 2
}
