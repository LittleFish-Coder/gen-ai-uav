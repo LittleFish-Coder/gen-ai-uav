{
 "cells": [
  {
   "cell_type": "markdown",
   "metadata": {},
   "source": [
    "# Install"
   ]
  },
  {
   "cell_type": "code",
   "execution_count": null,
   "metadata": {},
   "outputs": [],
   "source": [
    "import os\n",
    "import shutil"
   ]
  },
  {
   "cell_type": "code",
   "execution_count": null,
   "metadata": {},
   "outputs": [],
   "source": [
    "# check if `pytorch-CycleGAN-and-pix2pix` is already cloned\n",
    "if not os.path.exists('pytorch-CycleGAN-and-pix2pix'):\n",
    "\t!git clone https://github.com/junyanz/pytorch-CycleGAN-and-pix2pix"
   ]
  },
  {
   "cell_type": "code",
   "execution_count": null,
   "metadata": {},
   "outputs": [],
   "source": [
    "os.chdir('./pytorch-CycleGAN-and-pix2pix')"
   ]
  },
  {
   "cell_type": "code",
   "execution_count": null,
   "metadata": {},
   "outputs": [],
   "source": [
    "!pwd"
   ]
  },
  {
   "cell_type": "markdown",
   "metadata": {},
   "source": [
    "# Datasets\n",
    "\n",
    "Put the dataset in the `pytorch-CycleGAN-and-pix2pix/datasets` folder\n",
    "\n",
    "(We have finished this part at the previous step when running `preprocess_dataset.ipynb`)\n",
    "\n",
    "Each dataset should have the following directory structure:\n",
    "\n",
    "```\n",
    "datasets\n",
    "└── testing_dataset\n",
    "\t├── testA\n",
    "```"
   ]
  },
  {
   "cell_type": "markdown",
   "metadata": {},
   "source": [
    "# Testing (Baseline)\n",
    "convert the testA images to domainB images\n",
    "\n",
    "use the trained model to inference the testA images"
   ]
  },
  {
   "cell_type": "markdown",
   "metadata": {},
   "source": [
    "## Load testing data folder"
   ]
  },
  {
   "cell_type": "code",
   "execution_count": null,
   "metadata": {},
   "outputs": [],
   "source": [
    "test_dir = './datasets/public_testing_dataset_1'\n",
    "# the directory may only contain `testA` subfolder"
   ]
  },
  {
   "cell_type": "markdown",
   "metadata": {},
   "source": [
    "## Check the weights\n",
    "After training, you should have a folder with the weights of the model. \n",
    "\n",
    "It should be located in the `pytorch-CycleGAN-and-pix2pix/checkpoints` folder.\n",
    "\n",
    "For example, in our previous training, we have the following weights:\n",
    "`checkpoints/ROAD_RIVER_pix2pix/latest_net_G.pth`"
   ]
  },
  {
   "cell_type": "code",
   "execution_count": null,
   "metadata": {},
   "outputs": [],
   "source": [
    "!ls checkpoints/"
   ]
  },
  {
   "cell_type": "code",
   "execution_count": null,
   "metadata": {},
   "outputs": [],
   "source": [
    "# if there is no pre-trained model, use our pre-trained model\n",
    "if not os.path.exists('./checkpoints/ROAD_RIVER_pix2pix'):\n",
    "    !bash ../scripts/download_pretrained_weight.sh"
   ]
  },
  {
   "cell_type": "markdown",
   "metadata": {},
   "source": [
    "## Inference with the pre-trained model with single mode\n",
    "\n",
    "- `--dataroot`: the folder where the testing data is located\n",
    "- `--name`: the name of the model\n",
    "- `--model`: the model mode\n",
    "- `--netG`: the weights of the generator\n",
    "- `--direction`: the direction of the model\n",
    "- `--dataset_mode`: single (which we don't need to prepare the paired data)\n",
    "- `--num_test`: the number of testing data (default is 50)"
   ]
  },
  {
   "cell_type": "code",
   "execution_count": null,
   "metadata": {},
   "outputs": [],
   "source": [
    "load_size = 256\n",
    "! python test.py --dataroot ./datasets/public_testing_dataset_1/testA/ --name ROAD_RIVER_pix2pix --model test --netG unet_256 --direction AtoB --dataset_mode single --load_size {load_size} --norm batch --num_test 1000 "
   ]
  },
  {
   "cell_type": "markdown",
   "metadata": {},
   "source": [
    "## Transform the results into AI CUP format\n",
    "\n",
    "The results are stored in `./results/ROAD_RIVER_pix2pix/test_latest/images/`.\n",
    "\n",
    "And there are 2 types of results:\n",
    "- `{Prefix}_real` (domainA)\n",
    "- `{Prefix}_fake` (domainB)\n",
    "\n",
    "Store the `{Prefix}_fake.png` as `{Prefix}.jpg` to `./ROAD_RIVER_pix2pix/test_latest/submission/`."
   ]
  },
  {
   "cell_type": "code",
   "execution_count": null,
   "metadata": {},
   "outputs": [],
   "source": [
    "# store the fake images to the `./results/ROAD_RIVER_pix2pix/test_latest/submission/` folder\n",
    "import os\n",
    "import cv2\n",
    "import shutil\n",
    "\n",
    "source_folder = './results/ROAD_RIVER_pix2pix/test_latest/images'\n",
    "target_folder = './results/ROAD_RIVER_pix2pix/test_latest/submission'\n",
    "\n",
    "if not os.path.exists(target_folder):\n",
    "    os.makedirs(target_folder)\n",
    "\n",
    "for image_name in os.listdir(source_folder):\n",
    "    if 'fake' in image_name:\n",
    "        new_name = image_name.replace('_fake.png', '.jpg')\n",
    "        shutil.copy(os.path.join(source_folder, image_name), os.path.join(target_folder, new_name))"
   ]
  },
  {
   "cell_type": "code",
   "execution_count": null,
   "metadata": {},
   "outputs": [],
   "source": [
    "# resize the image as 420x240\n",
    "import os\n",
    "import cv2\n",
    "\n",
    "for image_name in os.listdir(target_folder):\n",
    "    img = cv2.imread(os.path.join(target_folder, image_name))\n",
    "    img = cv2.resize(img, (420, 240))\n",
    "    cv2.imwrite(os.path.join(target_folder, image_name), img)\n",
    "print(\"Finished resizing images\")\n",
    "print(f\"Size: {len(os.listdir(target_folder))}\")"
   ]
  },
  {
   "cell_type": "code",
   "execution_count": null,
   "metadata": {},
   "outputs": [],
   "source": [
    "# zip the fake images\n",
    "shutil.make_archive(target_folder, 'zip', target_folder)"
   ]
  },
  {
   "cell_type": "markdown",
   "metadata": {},
   "source": [
    "# Test with Enhanced Method (2 domain-specific models)\n",
    "convert the `test_RIVER/testA` and `test_ROAD/testA` images to domainB images\n",
    "\n",
    "use the trained model to inference the testA images"
   ]
  },
  {
   "cell_type": "markdown",
   "metadata": {},
   "source": [
    "## Test The Model"
   ]
  },
  {
   "cell_type": "code",
   "execution_count": null,
   "metadata": {},
   "outputs": [],
   "source": [
    "# change directory to the pix2pix code\n",
    "import os\n",
    "\n",
    "try:\n",
    "\tos.chdir('./pytorch-CycleGAN-and-pix2pix')\n",
    "except:\n",
    "    print(\"Already in the correct directory\")"
   ]
  },
  {
   "cell_type": "markdown",
   "metadata": {},
   "source": [
    "## Load testing data folder"
   ]
  },
  {
   "cell_type": "code",
   "execution_count": null,
   "metadata": {},
   "outputs": [],
   "source": [
    "test_road_dir = './datasets/test_ROAD/testA'\n",
    "test_river_dir = './datasets/test_RIVER/testA'\n",
    "\n",
    "road_model = 'ROAD_pix2pix'\n",
    "river_model = 'RIVER_pix2pix'"
   ]
  },
  {
   "cell_type": "markdown",
   "metadata": {},
   "source": [
    "## Inference with domain-specific models in single mode"
   ]
  },
  {
   "cell_type": "code",
   "execution_count": null,
   "metadata": {},
   "outputs": [],
   "source": [
    "# test the 2 dataset in single mode\n",
    "! python test.py --dataroot {test_road_dir} --name {road_model} --model test --netG unet_256 --direction AtoB --dataset_mode single --norm batch --num_test 1000\n",
    "! python test.py --dataroot {test_river_dir} --name {river_model} --model test --netG unet_256 --direction AtoB --dataset_mode single --norm batch --num_test 1000"
   ]
  },
  {
   "cell_type": "markdown",
   "metadata": {},
   "source": [
    "## Transform the results into AI CUP format\n",
    "\n",
    "The results are stored in \n",
    "- `./results/ROAD_pix2pix/test_latest/images/`\n",
    "- `./results/RIVER_pix2pix/test_latest/images/`\n",
    "\n",
    "And there are 2 types of results in each folder:\n",
    "- `{Prefix}_real` (domainA)\n",
    "- `{Prefix}_fake` (domainB)\n",
    "\n",
    "Store the `{Prefix}_fake.png` as `{Prefix}.jpg` to `./domain_type/test_latest/submission/`.\n",
    "\n",
    "That is to say\n",
    "- `./ROAD_pix2pix/test_latest/images/{Prefix}_fake.png` -> `./ROAD_pix2pix/test_latest/submission/{Prefix}.jpg`\n",
    "\n",
    "- `./RIVER_pix2pix/test_latest/images/{Prefix}_fake.png` -> `./RIVER_pix2pix/test_latest/submission/{Prefix}.jpg`"
   ]
  },
  {
   "cell_type": "code",
   "execution_count": null,
   "metadata": {},
   "outputs": [],
   "source": [
    "# ROAD_pix2pix\n",
    "# store the fake images to the `./results/ROAD_pix2pix/test_latest/submission/` folder\n",
    "import os\n",
    "import shutil\n",
    "\n",
    "source_folder = './results/ROAD_pix2pix/test_latest/images'\n",
    "target_folder = './results/ROAD_pix2pix/test_latest/submission'\n",
    "\n",
    "if not os.path.exists(target_folder):\n",
    "    os.makedirs(target_folder)\n",
    "\n",
    "for image_name in os.listdir(source_folder):\n",
    "    if 'fake' in image_name:\n",
    "        new_name = image_name.replace('_fake.png', '.jpg')\n",
    "        shutil.copy(os.path.join(source_folder, image_name), os.path.join(target_folder, new_name))"
   ]
  },
  {
   "cell_type": "code",
   "execution_count": null,
   "metadata": {},
   "outputs": [],
   "source": [
    "# resize the image as 420x240\n",
    "import os\n",
    "import cv2\n",
    "\n",
    "for image_name in os.listdir(target_folder):\n",
    "    img = cv2.imread(os.path.join(target_folder, image_name))\n",
    "    img = cv2.resize(img, (420, 240))\n",
    "    cv2.imwrite(os.path.join(target_folder, image_name), img)\n",
    "print(\"Finished resizing images\")\n",
    "print(f\"Size: {len(os.listdir(target_folder))}\")"
   ]
  },
  {
   "cell_type": "code",
   "execution_count": null,
   "metadata": {},
   "outputs": [],
   "source": [
    "# RIVER_pix2pix\n",
    "# store the fake images to the `./results/ROAD_pix2pix/test_latest/submission/` folder\n",
    "import os\n",
    "import shutil\n",
    "\n",
    "source_folder = './results/RIVER_pix2pix/test_latest/images'\n",
    "target_folder = './results/RIVER_pix2pix/test_latest/submission'\n",
    "\n",
    "if not os.path.exists(target_folder):\n",
    "    os.makedirs(target_folder)\n",
    "\n",
    "for image_name in os.listdir(source_folder):\n",
    "    if 'fake' in image_name:\n",
    "        new_name = image_name.replace('_fake.png', '.jpg')\n",
    "        shutil.copy(os.path.join(source_folder, image_name), os.path.join(target_folder, new_name))"
   ]
  },
  {
   "cell_type": "code",
   "execution_count": null,
   "metadata": {},
   "outputs": [],
   "source": [
    "# resize the image as 420x240\n",
    "import os\n",
    "import cv2\n",
    "\n",
    "for image_name in os.listdir(target_folder):\n",
    "    img = cv2.imread(os.path.join(target_folder, image_name))\n",
    "    img = cv2.resize(img, (420, 240))\n",
    "    cv2.imwrite(os.path.join(target_folder, image_name), img)\n",
    "print(\"Finished resizing images\")\n",
    "print(f\"Size: {len(os.listdir(target_folder))}\")"
   ]
  },
  {
   "cell_type": "markdown",
   "metadata": {},
   "source": [
    "## Combine the ROAD and RIVER submission\n",
    "\n",
    "Combine the ROAD and RIVER submission into the `./results/ROAD_RIVER_combined/submission` folder"
   ]
  },
  {
   "cell_type": "code",
   "execution_count": null,
   "metadata": {},
   "outputs": [],
   "source": [
    "source_road_dir = './results/ROAD_pix2pix/test_latest/submission'\n",
    "source_river_dir = './results/RIVER_pix2pix/test_latest/submission'\n",
    "\n",
    "target_dir = './results/ROAD_RIVER_combined/submission'\n",
    "\n",
    "if not os.path.exists(target_dir):\n",
    "    os.makedirs(target_dir)\n",
    "\n",
    "for image_name in os.listdir(source_road_dir):\n",
    "\tshutil.copy(os.path.join(source_road_dir, image_name), os.path.join(target_dir, image_name))\n",
    "for image_name in os.listdir(source_river_dir):\n",
    "\tshutil.copy(os.path.join(source_river_dir, image_name), os.path.join(target_dir, image_name))"
   ]
  },
  {
   "cell_type": "code",
   "execution_count": null,
   "metadata": {},
   "outputs": [],
   "source": [
    "# zip the fake images\n",
    "shutil.make_archive(target_dir, 'zip', target_dir)"
   ]
  }
 ],
 "metadata": {
  "kernelspec": {
   "display_name": "genai",
   "language": "python",
   "name": "python3"
  },
  "language_info": {
   "codemirror_mode": {
    "name": "ipython",
    "version": 3
   },
   "file_extension": ".py",
   "mimetype": "text/x-python",
   "name": "python",
   "nbconvert_exporter": "python",
   "pygments_lexer": "ipython3",
   "version": "3.10.14"
  }
 },
 "nbformat": 4,
 "nbformat_minor": 2
}
