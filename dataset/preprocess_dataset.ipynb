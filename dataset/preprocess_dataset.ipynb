{
 "cells": [
  {
   "cell_type": "markdown",
   "metadata": {},
   "source": [
    "# Data Preprocess for the Dataset\n",
    "\n",
    "In this session, we will have 2 parts:\n",
    "- Baseline Preprocess\n",
    "- Enhanced Preprocess\n",
    "\n",
    "Each part will have 3 steps:\n",
    "- Prepare training data\n",
    "- Prepare public data\n",
    "- Prepare private data (not yet)"
   ]
  },
  {
   "cell_type": "code",
   "execution_count": 8,
   "metadata": {},
   "outputs": [],
   "source": [
    "import os\n",
    "import shutil"
   ]
  },
  {
   "cell_type": "code",
   "execution_count": null,
   "metadata": {},
   "outputs": [],
   "source": [
    "# check if `pytorch-CycleGAN-and-pix2pix` is already cloned\n",
    "if not os.path.exists('../pytorch-CycleGAN-and-pix2pix'):\n",
    "    os.chdir('../')\n",
    "    !git clone https://github.com/junyanz/pytorch-CycleGAN-and-pix2pix\n",
    "    os.chdir('./dataset')\t# change directory back to `./dataset`\n",
    "else:\n",
    "    print('pytorch-CycleGAN-and-pix2pix is already cloned.')"
   ]
  },
  {
   "cell_type": "code",
   "execution_count": null,
   "metadata": {},
   "outputs": [],
   "source": [
    "!pwd"
   ]
  },
  {
   "cell_type": "markdown",
   "metadata": {},
   "source": [
    "## Download Dataset"
   ]
  },
  {
   "cell_type": "code",
   "execution_count": null,
   "metadata": {},
   "outputs": [],
   "source": [
    "!bash ../scripts/download_official_dataset.sh"
   ]
  },
  {
   "cell_type": "markdown",
   "metadata": {},
   "source": [
    "# Baseline Preprocess\n",
    "\n",
    "we will cover the following steps:\n",
    "- Prepare training data\n",
    "- Prepare public data\n",
    "- Prepare private data"
   ]
  },
  {
   "cell_type": "markdown",
   "metadata": {},
   "source": [
    "## Prepare Raw Training Data (Baseline)"
   ]
  },
  {
   "cell_type": "markdown",
   "metadata": {},
   "source": [
    "The Training dataset contains two subfolder:\n",
    "- label_img: contains the draft images\n",
    "- img: contains the corresponding ground truth images"
   ]
  },
  {
   "cell_type": "code",
   "execution_count": null,
   "metadata": {},
   "outputs": [],
   "source": [
    "import zipfile\n",
    "\n",
    "train_dataset_zip = '34_Competition 1_Training dataset.zip'\n",
    "\n",
    "# unzip the train_dataset_zip\n",
    "with zipfile.ZipFile(train_dataset_zip, 'r') as zip_ref:\n",
    "    zip_ref.extractall()"
   ]
  },
  {
   "cell_type": "code",
   "execution_count": null,
   "metadata": {},
   "outputs": [],
   "source": [
    "train_dir = 'training_dataset'\n",
    "\n",
    "# rename the extracted folder\n",
    "os.rename('Training dataset', train_dir)"
   ]
  },
  {
   "cell_type": "code",
   "execution_count": null,
   "metadata": {},
   "outputs": [],
   "source": [
    "# train_dir = './training_dataset'\n",
    "print(os.listdir(train_dir))"
   ]
  },
  {
   "cell_type": "markdown",
   "metadata": {},
   "source": [
    "### Rename the subfolders as trainA and trainB\n",
    "mapping the folder name to the model input:\n",
    "- `training_dataset/label_img` -> `training_dataset/trainA`\n",
    "- `training_dataset/img` -> `training_dataset/trainB`"
   ]
  },
  {
   "cell_type": "code",
   "execution_count": null,
   "metadata": {},
   "outputs": [],
   "source": [
    "# rename the subfolders\n",
    "os.rename(train_dir + '/label_img', train_dir + '/trainA')\n",
    "os.rename(train_dir + '/img', train_dir + '/trainB')"
   ]
  },
  {
   "cell_type": "markdown",
   "metadata": {},
   "source": [
    "### Copy the folder to the model input folder\n",
    "\n",
    "move the `training_dataset` folders to `../pytorch-CycleGAN-and-pix2pix/datasets`"
   ]
  },
  {
   "cell_type": "code",
   "execution_count": null,
   "metadata": {},
   "outputs": [],
   "source": [
    "# copy the folder to target folder\n",
    "target_dir = '../pytorch-CycleGAN-and-pix2pix/datasets'\n",
    "\n",
    "# check if the folders exists\n",
    "if not os.path.exists(target_dir + '/' + train_dir):\n",
    "    shutil.copytree(train_dir, target_dir + '/' + train_dir)\n",
    "else:\n",
    "    # remove the existing folder\n",
    "    shutil.rmtree(target_dir + '/' + train_dir)\n",
    "    # copy the folder\n",
    "    shutil.copytree(train_dir, target_dir + '/' + train_dir)"
   ]
  },
  {
   "cell_type": "markdown",
   "metadata": {},
   "source": [
    "### Align the trainA and trainB images"
   ]
  },
  {
   "cell_type": "code",
   "execution_count": null,
   "metadata": {},
   "outputs": [],
   "source": [
    "os.chdir('../pytorch-CycleGAN-and-pix2pix/datasets')\n",
    "\n",
    "! python make_dataset_aligned.py --dataset-path training_dataset\n",
    "print('Done!')"
   ]
  },
  {
   "cell_type": "markdown",
   "metadata": {},
   "source": [
    "## Prepare Public Testing Data (Baseline)"
   ]
  },
  {
   "cell_type": "markdown",
   "metadata": {},
   "source": [
    "1. The extracted zip file only contains `label_img` folder\n",
    "2. so we need to create the parent folder `public_testing_dataset`\n",
    "3. and move the `label_img` folder to `public_testing_dataset`"
   ]
  },
  {
   "cell_type": "code",
   "execution_count": null,
   "metadata": {},
   "outputs": [],
   "source": [
    "import os\n",
    "\n",
    "# change directory to the root of the project\n",
    "try:\n",
    "\tos.chdir('../../dataset')\n",
    "except:\n",
    "\tprint(\"Already in the root directory\")"
   ]
  },
  {
   "cell_type": "code",
   "execution_count": null,
   "metadata": {},
   "outputs": [],
   "source": [
    "import zipfile\n",
    "\n",
    "test_dataset_zip = '34_Competition 1_public testing dataset.zip'\n",
    "test_dir = 'public_testing_dataset'\n",
    "\n",
    "# unzip the test_dataset_zip\n",
    "with zipfile.ZipFile(test_dataset_zip, 'r') as zip_ref:\n",
    "\tzip_ref.extractall(test_dir)"
   ]
  },
  {
   "cell_type": "code",
   "execution_count": null,
   "metadata": {},
   "outputs": [],
   "source": [
    "test_dir = 'public_testing_dataset'\n",
    "print(os.listdir(test_dir))"
   ]
  },
  {
   "cell_type": "markdown",
   "metadata": {},
   "source": [
    "### Rename the subfolder as testA\n",
    "\n",
    "since the ground truth images are not provided, we just need to rename the folder `label_img` as `testA`\n",
    "\n",
    "mapping the folder name to the model input:\n",
    "- `public_testing_dataset/label_img` -> `public_testing_dataset/testA`"
   ]
  },
  {
   "cell_type": "code",
   "execution_count": null,
   "metadata": {},
   "outputs": [],
   "source": [
    "os.rename(test_dir + '/label_img', test_dir + '/testA')"
   ]
  },
  {
   "cell_type": "markdown",
   "metadata": {},
   "source": [
    "### Copy the folders to the model input folder\n",
    "\n",
    "copy the `public_testing_dataset` folders to `../pytorch-CycleGAN-and-pix2pix/datasets`"
   ]
  },
  {
   "cell_type": "code",
   "execution_count": null,
   "metadata": {},
   "outputs": [],
   "source": [
    "# copy the folder to target folder\n",
    "target_dir = '../pytorch-CycleGAN-and-pix2pix/datasets'\n",
    "\n",
    "# check if the folder exists\n",
    "if not os.path.exists(target_dir + '/' + test_dir):\n",
    "\tshutil.copytree(test_dir, target_dir + '/' + test_dir)\n",
    "else:\n",
    "\t# remove the existing folder\n",
    "\tshutil.rmtree(target_dir + '/' + test_dir)\n",
    "\t# copy the new folder\n",
    "\tshutil.copytree(test_dir, target_dir + '/' + test_dir)"
   ]
  },
  {
   "cell_type": "markdown",
   "metadata": {},
   "source": [
    "## Prepare Private Testing Data (Baseline)"
   ]
  },
  {
   "cell_type": "markdown",
   "metadata": {},
   "source": [
    "1. The extracted zip file only contains `label_img` folder\n",
    "2. so we need to create the parent folder `private_testing_dataset`\n",
    "3. and move the `label_img` folder to `private_testing_dataset`"
   ]
  },
  {
   "cell_type": "code",
   "execution_count": 1,
   "metadata": {},
   "outputs": [
    {
     "name": "stdout",
     "output_type": "stream",
     "text": [
      "Already in the root directory\n"
     ]
    }
   ],
   "source": [
    "import os\n",
    "\n",
    "# change directory to the root of the project\n",
    "try:\n",
    "\tos.chdir('../../dataset')\n",
    "except:\n",
    "\tprint(\"Already in the root directory\")"
   ]
  },
  {
   "cell_type": "code",
   "execution_count": 4,
   "metadata": {},
   "outputs": [],
   "source": [
    "import zipfile\n",
    "\n",
    "private_test_dataset_zip = '34_Competition 1_Private Test Dataset.zip'\n",
    "private_test_dir = 'private_testing_dataset'\n",
    "\n",
    "# unzip the test_dataset_zip\n",
    "with zipfile.ZipFile(private_test_dataset_zip, 'r') as zip_ref:\n",
    "\tzip_ref.extractall(private_test_dir)"
   ]
  },
  {
   "cell_type": "code",
   "execution_count": 5,
   "metadata": {},
   "outputs": [
    {
     "name": "stdout",
     "output_type": "stream",
     "text": [
      "['label_img']\n"
     ]
    }
   ],
   "source": [
    "private_test_dir = 'private_testing_dataset'\n",
    "print(os.listdir(private_test_dir))"
   ]
  },
  {
   "cell_type": "markdown",
   "metadata": {},
   "source": [
    "### Rename the subfolder as testA\n",
    "\n",
    "since the ground truth images are not provided, we just need to rename the folder `label_img` as `testA`\n",
    "\n",
    "mapping the folder name to the model input:\n",
    "- `private_testing_dataset/label_img` -> `private_testing_dataset/testA`"
   ]
  },
  {
   "cell_type": "code",
   "execution_count": 6,
   "metadata": {},
   "outputs": [],
   "source": [
    "os.rename(private_test_dir + '/label_img', private_test_dir + '/testA')"
   ]
  },
  {
   "cell_type": "markdown",
   "metadata": {},
   "source": [
    "### Copy the folders to the model input folder\n",
    "\n",
    "copy the `private_testing_dataset` folders to `../pytorch-CycleGAN-and-pix2pix/datasets`"
   ]
  },
  {
   "cell_type": "code",
   "execution_count": 9,
   "metadata": {},
   "outputs": [],
   "source": [
    "# copy the folder to target folder\n",
    "target_dir = '../pytorch-CycleGAN-and-pix2pix/datasets'\n",
    "\n",
    "# check if the folder exists\n",
    "if not os.path.exists(target_dir + '/' + private_test_dir):\n",
    "\tshutil.copytree(private_test_dir, target_dir + '/' + private_test_dir)\n",
    "else:\n",
    "\t# remove the existing folder\n",
    "\tshutil.rmtree(target_dir + '/' + private_test_dir)\n",
    "\t# copy the new folder\n",
    "\tshutil.copytree(private_test_dir, target_dir + '/' + private_test_dir)"
   ]
  },
  {
   "cell_type": "markdown",
   "metadata": {},
   "source": [
    "# Enhanced Preprocess (2 domain datasets)"
   ]
  },
  {
   "cell_type": "markdown",
   "metadata": {},
   "source": [
    "## Prepare Training Data (Enhanced)"
   ]
  },
  {
   "cell_type": "markdown",
   "metadata": {},
   "source": [
    "### Extract the Images from Raw Training Data\n",
    "Each `trainA` and `trainB` subfolders contains 2 types of images:\n",
    "- River images(e.g. TRA_RI_1000000.png)\n",
    "- Road images(e.g. TRA_RO_1000000.png)\n",
    "\n",
    "so we need to create 2 folders:\n",
    "- River (contains `trainA` and `trainB` subfolders, each contains river images)\n",
    "- Road (contains `trainA` and `trainB` subfolders, each contains road images)"
   ]
  },
  {
   "cell_type": "code",
   "execution_count": null,
   "metadata": {},
   "outputs": [],
   "source": [
    "train_dir = 'training_dataset'\n",
    "river_dir = 'RIVER'\n",
    "road_dir = 'ROAD'\n",
    "\n",
    "# create the folders\n",
    "if not os.path.exists(river_dir):\n",
    "\tos.makedirs(river_dir)\n",
    "if not os.path.exists(road_dir):\n",
    "\tos.makedirs(road_dir)\n",
    "\n",
    "for subdir in os.listdir(train_dir):\n",
    "\t# create the subfolders if not exist\n",
    "\tif not os.path.exists(river_dir + '/' + subdir):\n",
    "\t\tos.makedirs(river_dir + '/' + subdir)\n",
    "\tif not os.path.exists(road_dir + '/' + subdir):\n",
    "\t\tos.makedirs(road_dir + '/' + subdir)\n",
    "\t\n",
    "\t# move or copy the files\n",
    "\tfor file in os.listdir(train_dir + '/' + subdir):\n",
    "\t\tif 'RI' in file:\n",
    "\t\t\tshutil.copy(train_dir + '/' + subdir + '/' + file, river_dir + '/' + subdir + '/' + file)\n",
    "\t\telif 'RO' in file:\n",
    "\t\t\tshutil.copy(train_dir + '/' + subdir + '/' + file, road_dir + '/' + subdir + '/' + file)\n",
    "\t\telse:\n",
    "\t\t\tprint('ERROR: file name not recognized: ' + file)"
   ]
  },
  {
   "cell_type": "markdown",
   "metadata": {},
   "source": [
    "### Copy the folders to the model input folder\n",
    "\n",
    "move the `RIVER` and `ROAD` folders to `../pytorch-CycleGAN-and-pix2pix/datasets`"
   ]
  },
  {
   "cell_type": "code",
   "execution_count": null,
   "metadata": {},
   "outputs": [],
   "source": [
    "# copy the folder to target folder\n",
    "target_dir = '../pytorch-CycleGAN-and-pix2pix/datasets'\n",
    "shutil.copytree(river_dir, target_dir + '/' + river_dir)\n",
    "shutil.copytree(road_dir, target_dir + '/' + road_dir)"
   ]
  },
  {
   "cell_type": "markdown",
   "metadata": {},
   "source": [
    "### Align the trainA and trainB images"
   ]
  },
  {
   "cell_type": "code",
   "execution_count": null,
   "metadata": {},
   "outputs": [],
   "source": [
    "os.chdir('../pytorch-CycleGAN-and-pix2pix/datasets')\n",
    "\n",
    "! python make_dataset_aligned.py --dataset-path RIVER\n",
    "! python make_dataset_aligned.py --dataset-path ROAD\n",
    "print('Done!')"
   ]
  },
  {
   "cell_type": "markdown",
   "metadata": {},
   "source": [
    "## Prepare Public Testing Data (Enhanced)"
   ]
  },
  {
   "cell_type": "markdown",
   "metadata": {},
   "source": [
    "### Extract the Images from Raw Testing Data\n",
    "`public_testing_dataset/testA` subfolder contains 2 types of images:\n",
    "- River images(e.g. PUB_RI_1000000.png)\n",
    "- Road images(e.g. PUB_RO_1000459.png)\n",
    "\n",
    "so we need to create 2 folders:\n",
    "- test_RIVER (contains `testA` subfolders, only contains river images)\n",
    "- test_ROAD (contains `testA` subfolders, only contains road images)"
   ]
  },
  {
   "cell_type": "code",
   "execution_count": null,
   "metadata": {},
   "outputs": [],
   "source": [
    "import os\n",
    "\n",
    "# change directory to the root of the project\n",
    "try:\n",
    "\tos.chdir('../../dataset')\n",
    "except:\n",
    "\tprint(\"Already in the root directory\")"
   ]
  },
  {
   "cell_type": "code",
   "execution_count": null,
   "metadata": {},
   "outputs": [],
   "source": [
    "test_dir = 'public_testing_dataset'\n",
    "test_river_dir = 'test_RIVER'\n",
    "test_road_dir = 'test_ROAD'\n",
    "\n",
    "# create the folders\n",
    "if not os.path.exists(test_river_dir):\n",
    "\tos.makedirs(test_river_dir)\n",
    "if not os.path.exists(test_road_dir):\n",
    "\tos.makedirs(test_road_dir)\n",
    " \n",
    "\n",
    "for subdir in os.listdir(test_dir):\n",
    "\t# create the subfolders if not exist\n",
    "\tif not os.path.exists(test_river_dir + '/' + subdir):\n",
    "\t\tos.makedirs(test_river_dir + '/' + subdir)\n",
    "\tif not os.path.exists(test_road_dir + '/' + subdir):\n",
    "\t\tos.makedirs(test_road_dir + '/' + subdir)\n",
    "\t\n",
    "\t# move or copy the files\n",
    "\tfor file in os.listdir(test_dir + '/' + subdir):\n",
    "\t\tif 'RI' in file:\n",
    "\t\t\tshutil.copy(test_dir + '/' + subdir + '/' + file, test_river_dir + '/' + subdir + '/' + file)\n",
    "\t\telif 'RO' in file:\n",
    "\t\t\tshutil.copy(test_dir + '/' + subdir + '/' + file, test_road_dir + '/' + subdir + '/' + file)\n",
    "\t\telse:\n",
    "\t\t\tprint('ERROR: file name not recognized: ' + file)"
   ]
  },
  {
   "cell_type": "markdown",
   "metadata": {},
   "source": [
    "### Copy the folders to the model input folder\n",
    "\n",
    "copy the `test_RIVER` and `test_ROAD` folders to `../pytorch-CycleGAN-and-pix2pix/datasets`"
   ]
  },
  {
   "cell_type": "code",
   "execution_count": null,
   "metadata": {},
   "outputs": [],
   "source": [
    "# copy the folder to target folder\n",
    "target_dir = '../pytorch-CycleGAN-and-pix2pix/datasets'\n",
    "shutil.copytree(test_river_dir, target_dir + '/' + test_river_dir)\n",
    "shutil.copytree(test_road_dir, target_dir + '/' + test_road_dir)"
   ]
  }
 ],
 "metadata": {
  "kernelspec": {
   "display_name": "genai",
   "language": "python",
   "name": "python3"
  },
  "language_info": {
   "codemirror_mode": {
    "name": "ipython",
    "version": 3
   },
   "file_extension": ".py",
   "mimetype": "text/x-python",
   "name": "python",
   "nbconvert_exporter": "python",
   "pygments_lexer": "ipython3",
   "version": "3.10.14"
  }
 },
 "nbformat": 4,
 "nbformat_minor": 2
}
