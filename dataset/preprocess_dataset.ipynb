{
 "cells": [
  {
   "cell_type": "markdown",
   "metadata": {},
   "source": [
    "# Preprocess the Raw Training Data"
   ]
  },
  {
   "cell_type": "code",
   "execution_count": null,
   "metadata": {},
   "outputs": [],
   "source": [
    "import os\n",
    "import shutil"
   ]
  },
  {
   "cell_type": "markdown",
   "metadata": {},
   "source": [
    "The Training dataset contains two subfolder:\n",
    "- label_img: contains the draft images\n",
    "- img: contains the corresponding ground truth images"
   ]
  },
  {
   "cell_type": "code",
   "execution_count": null,
   "metadata": {},
   "outputs": [],
   "source": [
    "train_dir = './Training dataset'\n",
    "# print(os.listdir(train_dir))"
   ]
  },
  {
   "cell_type": "markdown",
   "metadata": {},
   "source": [
    "# Extract the Images from Raw Training Data and create 2 folders\n",
    "Each folder contains 2 types of images:\n",
    "- River images: e.g. TRA_RI_1000000.png\n",
    "- Road images: e.g. TRA_RO_1000000.png\n",
    "\n",
    "so we need to create 2 folders:\n",
    "- River (contains `img` and `label_img` subfolders, each contains river images)\n",
    "- Road (contains `img` and `label_img` subfolders, each contains road images)"
   ]
  },
  {
   "cell_type": "code",
   "execution_count": null,
   "metadata": {},
   "outputs": [],
   "source": [
    "river_dir = 'RIVER'\n",
    "road_dir = 'ROAD'\n",
    "\n",
    "# create the folders\n",
    "if not os.path.exists(river_dir):\n",
    "\tos.makedirs(river_dir)\n",
    "if not os.path.exists(road_dir):\n",
    "\tos.makedirs(road_dir)\n",
    "\n",
    "for subdir in os.listdir(train_dir):\n",
    "\t# create the subfolders if not exist\n",
    "\tif not os.path.exists(river_dir + '/' + subdir):\n",
    "\t\tos.makedirs(river_dir + '/' + subdir)\n",
    "\tif not os.path.exists(road_dir + '/' + subdir):\n",
    "\t\tos.makedirs(road_dir + '/' + subdir)\n",
    "\t\n",
    "\t# move or copy the files\n",
    "\tfor file in os.listdir(train_dir + '/' + subdir):\n",
    "\t\tif 'RI' in file:\n",
    "\t\t\tshutil.copy(train_dir + '/' + subdir + '/' + file, river_dir + '/' + subdir + '/' + file)\n",
    "\t\telif 'RO' in file:\n",
    "\t\t\tshutil.copy(train_dir + '/' + subdir + '/' + file, road_dir + '/' + subdir + '/' + file)\n",
    "\t\telse:\n",
    "\t\t\tprint('ERROR: file name not recognized: ' + file)"
   ]
  }
 ],
 "metadata": {
  "kernelspec": {
   "display_name": "genai",
   "language": "python",
   "name": "python3"
  },
  "language_info": {
   "codemirror_mode": {
    "name": "ipython",
    "version": 3
   },
   "file_extension": ".py",
   "mimetype": "text/x-python",
   "name": "python",
   "nbconvert_exporter": "python",
   "pygments_lexer": "ipython3",
   "version": "3.10.14"
  }
 },
 "nbformat": 4,
 "nbformat_minor": 2
}
