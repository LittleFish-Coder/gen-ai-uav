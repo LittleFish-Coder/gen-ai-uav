{
 "cells": [
  {
   "cell_type": "code",
   "execution_count": null,
   "metadata": {},
   "outputs": [],
   "source": [
    "import os\n",
    "\n",
    "# check if `pytorch-CycleGAN-and-pix2pix` is already cloned\n",
    "if not os.path.exists('../pytorch-CycleGAN-and-pix2pix'):\n",
    "    os.chdir('../')\n",
    "    !git clone https://github.com/junyanz/pytorch-CycleGAN-and-pix2pix\n",
    "    os.chdir('./dataset')\t# change directory back to `./dataset`"
   ]
  },
  {
   "cell_type": "markdown",
   "metadata": {},
   "source": [
    "# Data Preprocess for the Dataset"
   ]
  },
  {
   "cell_type": "code",
   "execution_count": 1,
   "metadata": {},
   "outputs": [],
   "source": [
    "import os\n",
    "import shutil"
   ]
  },
  {
   "cell_type": "markdown",
   "metadata": {},
   "source": [
    "# Training Dataset"
   ]
  },
  {
   "cell_type": "markdown",
   "metadata": {},
   "source": [
    "## Prepare Raw Training Data (Baseline)"
   ]
  },
  {
   "cell_type": "markdown",
   "metadata": {},
   "source": [
    "The Training dataset contains two subfolder:\n",
    "- label_img: contains the draft images\n",
    "- img: contains the corresponding ground truth images"
   ]
  },
  {
   "cell_type": "code",
   "execution_count": null,
   "metadata": {},
   "outputs": [],
   "source": [
    "import zipfile\n",
    "\n",
    "train_dataset_zip = '34_Competition 1_Training dataset.zip'\n",
    "\n",
    "\n",
    "# unzip the train_dataset_zip\n",
    "with zipfile.ZipFile(train_dataset_zip, 'r') as zip_ref:\n",
    "    zip_ref.extractall()"
   ]
  },
  {
   "cell_type": "code",
   "execution_count": null,
   "metadata": {},
   "outputs": [],
   "source": [
    "train_dir = 'training_dataset'\n",
    "\n",
    "# rename the extracted folder\n",
    "os.rename('Training dataset', train_dir)"
   ]
  },
  {
   "cell_type": "code",
   "execution_count": null,
   "metadata": {},
   "outputs": [],
   "source": [
    "# train_dir = './training_dataset'\n",
    "print(os.listdir(train_dir))"
   ]
  },
  {
   "cell_type": "markdown",
   "metadata": {},
   "source": [
    "### Rename the subfolders as trainA and trainB\n",
    "mapping the folder name to the model input:\n",
    "- `training_dataset/label_img` -> `training_dataset/trainA`\n",
    "- `training_dataset/img` -> `training_dataset/trainB`"
   ]
  },
  {
   "cell_type": "code",
   "execution_count": null,
   "metadata": {},
   "outputs": [],
   "source": [
    "# rename the subfolders\n",
    "os.rename(train_dir + '/label_img', train_dir + '/trainA')\n",
    "os.rename(train_dir + '/img', train_dir + '/trainB')"
   ]
  },
  {
   "cell_type": "markdown",
   "metadata": {},
   "source": [
    "### Copy the folders to the input folder\n",
    "\n",
    "move the `training_dataset` folders to `../pytorch-CycleGAN-and-pix2pix/datasets`"
   ]
  },
  {
   "cell_type": "code",
   "execution_count": null,
   "metadata": {},
   "outputs": [],
   "source": [
    "# copy the fodler to target folder\n",
    "target_dir = '../pytorch-CycleGAN-and-pix2pix/datasets'\n",
    "shutil.copytree(train_dir, target_dir + '/' + train_dir)"
   ]
  },
  {
   "cell_type": "markdown",
   "metadata": {},
   "source": [
    "### Align the trainA and trainB images"
   ]
  },
  {
   "cell_type": "code",
   "execution_count": null,
   "metadata": {},
   "outputs": [],
   "source": [
    "os.chdir('../pytorch-CycleGAN-and-pix2pix/datasets')\n",
    "\n",
    "! python make_dataset_aligned.py --dataset-path training_dataset\n",
    "print('Done!')"
   ]
  },
  {
   "cell_type": "markdown",
   "metadata": {},
   "source": [
    "## Prepare 2 domain datasets (Enhanced)"
   ]
  },
  {
   "cell_type": "markdown",
   "metadata": {},
   "source": [
    "### Extract the Images from Raw Training Data and create 2 folders\n",
    "Each folder contains 2 types of images:\n",
    "- River images: e.g. TRA_RI_1000000.png\n",
    "- Road images: e.g. TRA_RO_1000000.png\n",
    "\n",
    "so we need to create 2 folders:\n",
    "- River (contains `img` and `label_img` subfolders, each contains river images)\n",
    "- Road (contains `img` and `label_img` subfolders, each contains road images)"
   ]
  },
  {
   "cell_type": "code",
   "execution_count": null,
   "metadata": {},
   "outputs": [],
   "source": [
    "river_dir = 'RIVER'\n",
    "road_dir = 'ROAD'\n",
    "\n",
    "# create the folders\n",
    "if not os.path.exists(river_dir):\n",
    "\tos.makedirs(river_dir)\n",
    "if not os.path.exists(road_dir):\n",
    "\tos.makedirs(road_dir)\n",
    "\n",
    "for subdir in os.listdir(train_dir):\n",
    "\t# create the subfolders if not exist\n",
    "\tif not os.path.exists(river_dir + '/' + subdir):\n",
    "\t\tos.makedirs(river_dir + '/' + subdir)\n",
    "\tif not os.path.exists(road_dir + '/' + subdir):\n",
    "\t\tos.makedirs(road_dir + '/' + subdir)\n",
    "\t\n",
    "\t# move or copy the files\n",
    "\tfor file in os.listdir(train_dir + '/' + subdir):\n",
    "\t\tif 'RI' in file:\n",
    "\t\t\tshutil.copy(train_dir + '/' + subdir + '/' + file, river_dir + '/' + subdir + '/' + file)\n",
    "\t\telif 'RO' in file:\n",
    "\t\t\tshutil.copy(train_dir + '/' + subdir + '/' + file, road_dir + '/' + subdir + '/' + file)\n",
    "\t\telse:\n",
    "\t\t\tprint('ERROR: file name not recognized: ' + file)"
   ]
  },
  {
   "cell_type": "markdown",
   "metadata": {},
   "source": [
    "### Rename the subfolders as trainA and trainB\n",
    "mapping the folder name to the model input:\n",
    "- `RIVER/label_img` -> `RIVER/trainA`\n",
    "- `RIVER/img` -> `RIVER/trainB`\n",
    "- `ROAD/label_img` -> `ROAD/trainB`\n",
    "- `ROAD/img` -> `ROAD/trainA`"
   ]
  },
  {
   "cell_type": "code",
   "execution_count": null,
   "metadata": {},
   "outputs": [],
   "source": [
    "river_dir = 'RIVER'\n",
    "road_dir = 'ROAD'\n",
    "\n",
    "# rename the subfolders in the river and road folders\n",
    "os.rename(river_dir + '/label_img', river_dir + '/trainA')\n",
    "os.rename(river_dir + '/img', river_dir + '/trainB')\n",
    "os.rename(road_dir + '/label_img', road_dir + '/trainA')\n",
    "os.rename(road_dir + '/img', road_dir + '/trainB')"
   ]
  },
  {
   "cell_type": "markdown",
   "metadata": {},
   "source": [
    "### Copy the folders to the input folder\n",
    "\n",
    "move the `RIVER` and `ROAD` folders to `../pytorch-CycleGAN-and-pix2pix/datasets`"
   ]
  },
  {
   "cell_type": "code",
   "execution_count": null,
   "metadata": {},
   "outputs": [],
   "source": [
    "# copy the fodler to target folder\n",
    "target_dir = '../pytorch-CycleGAN-and-pix2pix/datasets'\n",
    "shutil.copytree(river_dir, target_dir + '/' + river_dir)\n",
    "shutil.copytree(road_dir, target_dir + '/' + road_dir)"
   ]
  },
  {
   "cell_type": "markdown",
   "metadata": {},
   "source": [
    "### Align the trainA and trainB images"
   ]
  },
  {
   "cell_type": "code",
   "execution_count": null,
   "metadata": {},
   "outputs": [],
   "source": [
    "os.chdir('../pytorch-CycleGAN-and-pix2pix/datasets')\n",
    "\n",
    "! python make_dataset_aligned.py --dataset-path RIVER\n",
    "! python make_dataset_aligned.py --dataset-path ROAD\n",
    "print('Done!')"
   ]
  },
  {
   "cell_type": "markdown",
   "metadata": {},
   "source": [
    "# Testing Dataset"
   ]
  },
  {
   "cell_type": "markdown",
   "metadata": {},
   "source": [
    "## Prepare Raw Testing Data (Baseline)"
   ]
  },
  {
   "cell_type": "markdown",
   "metadata": {},
   "source": [
    "The extracted zip file only contains `label_img` folder, so we need to create the parent folder `public_test` and move the `label_img` folder to `public_test`"
   ]
  },
  {
   "cell_type": "code",
   "execution_count": 15,
   "metadata": {},
   "outputs": [],
   "source": [
    "import os\n",
    "\n",
    "# change directory to the root of the project\n",
    "try:\n",
    "\tos.chdir('../dataset')\n",
    "except:\n",
    "\tprint(\"Already in the root directory\")"
   ]
  },
  {
   "cell_type": "code",
   "execution_count": 3,
   "metadata": {},
   "outputs": [],
   "source": [
    "import zipfile\n",
    "\n",
    "test_dataset_zip = 'public_testing_dataset_1.zip'\n",
    "test_dir = 'public_testing_dataset_1'\n",
    "\n",
    "# unzip the test_dataset_zip\n",
    "with zipfile.ZipFile(test_dataset_zip, 'r') as zip_ref:\n",
    "\tzip_ref.extractall(test_dir)"
   ]
  },
  {
   "cell_type": "code",
   "execution_count": 4,
   "metadata": {},
   "outputs": [
    {
     "name": "stdout",
     "output_type": "stream",
     "text": [
      "['label_img']\n"
     ]
    }
   ],
   "source": [
    "test_dir = 'public_testing_dataset_1'\n",
    "print(os.listdir(test_dir))"
   ]
  },
  {
   "cell_type": "markdown",
   "metadata": {},
   "source": [
    "since the ground truth images are not provided, we just need to rename the folder `label_img` as `testA`"
   ]
  },
  {
   "cell_type": "code",
   "execution_count": null,
   "metadata": {},
   "outputs": [],
   "source": [
    "# # create the subfolders img\n",
    "# if not os.path.exists(test_dir + '/img'):\n",
    "# \tos.makedirs(test_dir + '/img')\n",
    "\n",
    "# # copy the images from label_img to img\n",
    "# for file in os.listdir(test_dir + '/label_img'):\n",
    "# \tshutil.copy(test_dir + '/label_img/' + file, test_dir + '/img/' + file)"
   ]
  },
  {
   "cell_type": "markdown",
   "metadata": {},
   "source": [
    "### Rename the subfolder as testA\n",
    "\n",
    "mapping the folder name to the model input:\n",
    "- `public_test/label_img` -> `public_test/testA`\n",
    "<!-- - `public_test/img` -> `public_test/testB` -->"
   ]
  },
  {
   "cell_type": "code",
   "execution_count": 5,
   "metadata": {},
   "outputs": [],
   "source": [
    "os.rename(test_dir + '/label_img', test_dir + '/testA')\n",
    "# os.rename(test_dir + '/img', test_dir + '/testB')"
   ]
  },
  {
   "cell_type": "markdown",
   "metadata": {},
   "source": [
    "### Copy the folders to the input folder\n",
    "\n",
    "move the `public_testing_dataset_1` folders to `../pytorch-CycleGAN-and-pix2pix/datasets`"
   ]
  },
  {
   "cell_type": "code",
   "execution_count": 7,
   "metadata": {},
   "outputs": [],
   "source": [
    "# copy the fodler to target folder\n",
    "target_dir = '../pytorch-CycleGAN-and-pix2pix/datasets'\n",
    "\n",
    "# check if the folder exists\n",
    "if not os.path.exists(target_dir + '/' + test_dir):\n",
    "\tshutil.copytree(test_dir, target_dir + '/' + test_dir)\n",
    "else:\n",
    "\t# remove the existing folder\n",
    "\tshutil.rmtree(target_dir + '/' + test_dir)\n",
    "\t# copy the new folder\n",
    "\tshutil.copytree(test_dir, target_dir + '/' + test_dir)"
   ]
  },
  {
   "cell_type": "markdown",
   "metadata": {},
   "source": [
    "### Align the testA and testB images"
   ]
  },
  {
   "cell_type": "code",
   "execution_count": null,
   "metadata": {},
   "outputs": [],
   "source": [
    "# os.chdir('../pytorch-CycleGAN-and-pix2pix/datasets')"
   ]
  },
  {
   "cell_type": "code",
   "execution_count": null,
   "metadata": {},
   "outputs": [],
   "source": [
    "# ! python make_dataset_aligned.py --dataset-path {test_dir}\n",
    "# print('Done!')"
   ]
  }
 ],
 "metadata": {
  "kernelspec": {
   "display_name": "genai",
   "language": "python",
   "name": "python3"
  },
  "language_info": {
   "codemirror_mode": {
    "name": "ipython",
    "version": 3
   },
   "file_extension": ".py",
   "mimetype": "text/x-python",
   "name": "python",
   "nbconvert_exporter": "python",
   "pygments_lexer": "ipython3",
   "version": "3.10.14"
  }
 },
 "nbformat": 4,
 "nbformat_minor": 2
}
