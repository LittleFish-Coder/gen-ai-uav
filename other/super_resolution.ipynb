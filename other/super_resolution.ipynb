{
 "cells": [
  {
   "cell_type": "markdown",
   "metadata": {},
   "source": [
    "# upscale the image"
   ]
  },
  {
   "cell_type": "code",
   "execution_count": null,
   "metadata": {},
   "outputs": [],
   "source": [
    "%pip install -q git+https://github.com/huggingface/transformers.git"
   ]
  },
  {
   "cell_type": "markdown",
   "metadata": {},
   "source": [
    "# Define the model"
   ]
  },
  {
   "cell_type": "code",
   "execution_count": null,
   "metadata": {},
   "outputs": [],
   "source": [
    "from transformers import Swin2SRForImageSuperResolution\n",
    "\n",
    "model = Swin2SRForImageSuperResolution.from_pretrained(\"caidas/swin2SR-classical-sr-x2-64\")"
   ]
  },
  {
   "cell_type": "code",
   "execution_count": null,
   "metadata": {},
   "outputs": [],
   "source": [
    "from transformers import Swin2SRImageProcessor \n",
    "\n",
    "processor = Swin2SRImageProcessor()"
   ]
  },
  {
   "cell_type": "markdown",
   "metadata": {},
   "source": [
    "# Load the Image folder"
   ]
  },
  {
   "cell_type": "code",
   "execution_count": null,
   "metadata": {},
   "outputs": [],
   "source": [
    "import os\n",
    "from PIL import Image\n",
    "import numpy as np\n",
    "import torch"
   ]
  },
  {
   "cell_type": "code",
   "execution_count": null,
   "metadata": {},
   "outputs": [],
   "source": [
    "road_dir = \"./pytorch-CycleGAN-and-pix2pix/results/ROAD_pix2pix/test_latest/submission\"\n",
    "river_dir = \"./pytorch-CycleGAN-and-pix2pix/results/RIVER_pix2pix/test_latest/submission\"\n",
    "output_dir = \"upscaled_images\"\n",
    "\n",
    "if not os.path.exists(output_dir):\n",
    "    os.makedirs(output_dir)\n",
    "\n",
    "# road\n",
    "for img_name in os.listdir(road_dir):\n",
    "    img_path = os.path.join(road_dir, img_name)\n",
    "    if img_name in os.listdir(output_dir):\n",
    "        continue\n",
    "    img = Image.open(img_path)\n",
    "    pixel_values = processor(img, return_tensors=\"pt\").pixel_values\n",
    "    with torch.no_grad():\n",
    "        outputs = model(pixel_values)\n",
    "    output = outputs.reconstruction.data.squeeze().float().cpu().clamp_(0, 1).numpy()\n",
    "    output = np.moveaxis(output, source=0, destination=-1)\n",
    "    output = (output * 255.0).round().astype(np.uint8)  # float32 to uint8\n",
    "    # resize to 428x240\n",
    "    output = np.array(Image.fromarray(output).resize((428, 240), Image.BICUBIC))\n",
    "    # save the image\n",
    "    output_img = Image.fromarray(output)\n",
    "    output_img.save(os.path.join(output_dir, img_name))\n",
    "print(\"Upscaling road done!\")\n",
    "\n",
    "# river\n",
    "for img_name in os.listdir(river_dir):\n",
    "    img_path = os.path.join(river_dir, img_name)\n",
    "    img = Image.open(img_path)\n",
    "    if img_name in os.listdir(output_dir):\n",
    "        continue\n",
    "    pixel_values = processor(img, return_tensors=\"pt\").pixel_values\n",
    "    with torch.no_grad():\n",
    "        outputs = model(pixel_values)\n",
    "    output = outputs.reconstruction.data.squeeze().float().cpu().clamp_(0, 1).numpy()\n",
    "    output = np.moveaxis(output, source=0, destination=-1)\n",
    "    output = (output * 255.0).round().astype(np.uint8)  # float32 to uint8\n",
    "    # resize to 428x240\n",
    "    output = np.array(Image.fromarray(output).resize((428, 240), Image.BICUBIC))\n",
    "    # save the image\n",
    "    output_img = Image.fromarray(output)\n",
    "    output_img.save(os.path.join(output_dir, img_name))\n",
    "print(\"Upscaling river done!\")"
   ]
  },
  {
   "cell_type": "code",
   "execution_count": null,
   "metadata": {},
   "outputs": [],
   "source": [
    "output_dir = \"upscaled_images\""
   ]
  },
  {
   "cell_type": "code",
   "execution_count": null,
   "metadata": {},
   "outputs": [],
   "source": [
    "import os\n",
    "from PIL import Image\n",
    "# resize all the images in the output directory into 428x240\n",
    "\n",
    "for img_name in os.listdir(output_dir):\n",
    "    img_path = os.path.join(output_dir, img_name)\n",
    "    img = Image.open(img_path)\n",
    "    img = img.resize((428, 240), Image.BICUBIC)\n",
    "    img.save(img_path)"
   ]
  },
  {
   "cell_type": "code",
   "execution_count": null,
   "metadata": {},
   "outputs": [],
   "source": [
    "print(f\"Size: {len(os.listdir(output_dir))}\")"
   ]
  },
  {
   "cell_type": "code",
   "execution_count": null,
   "metadata": {},
   "outputs": [],
   "source": [
    "# zip the output\n",
    "import shutil\n",
    "\n",
    "shutil.make_archive(output_dir, 'zip', output_dir)"
   ]
  }
 ],
 "metadata": {
  "kernelspec": {
   "display_name": "genai",
   "language": "python",
   "name": "python3"
  },
  "language_info": {
   "codemirror_mode": {
    "name": "ipython",
    "version": 3
   },
   "file_extension": ".py",
   "mimetype": "text/x-python",
   "name": "python",
   "nbconvert_exporter": "python",
   "pygments_lexer": "ipython3",
   "version": "3.10.14"
  }
 },
 "nbformat": 4,
 "nbformat_minor": 2
}
